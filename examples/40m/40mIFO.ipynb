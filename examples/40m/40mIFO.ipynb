{
 "cells": [
  {
   "cell_type": "markdown",
   "metadata": {},
   "source": [
    "# Caltech 40 m Interferometer"
   ]
  },
  {
   "cell_type": "code",
   "execution_count": null,
   "metadata": {},
   "outputs": [],
   "source": [
    "# Import and initialize matlab engine.\n",
    "# This takes some time to initialize matlab, so only run it once at startup.\n",
    "import matlab.engine\n",
    "eng = matlab.engine.start_matlab()"
   ]
  },
  {
   "cell_type": "code",
   "execution_count": null,
   "metadata": {},
   "outputs": [],
   "source": [
    "import numpy as np\n",
    "import matplotlib.pyplot as plt\n",
    "import matplotlib as mpl\n",
    "%matplotlib inline"
   ]
  },
  {
   "cell_type": "code",
   "execution_count": null,
   "metadata": {},
   "outputs": [],
   "source": [
    "mpl.rc('figure', figsize=(12, 9))\n",
    "mpl.rcParams.update({'text.usetex': False,\n",
    "                     'font.family': 'serif',\n",
    "                     'font.serif': 'Georgia',\n",
    "                     'mathtext.fontset': 'cm',\n",
    "                     'lines.linewidth': 2,\n",
    "                     'font.size': 16,\n",
    "                     'legend.loc': 'best',\n",
    "                     'savefig.dpi': 80,\n",
    "                     'pdf.compression': 9})"
   ]
  },
  {
   "cell_type": "code",
   "execution_count": null,
   "metadata": {},
   "outputs": [],
   "source": [
    "import qlance.optickle as pyt\n",
    "import opt40m\n",
    "import param40m"
   ]
  },
  {
   "cell_type": "code",
   "execution_count": null,
   "metadata": {},
   "outputs": [],
   "source": [
    "# Add the optickle path\n",
    "pyt.addOpticklePath(eng)"
   ]
  },
  {
   "cell_type": "markdown",
   "metadata": {},
   "source": [
    "## Define and Run the Model"
   ]
  },
  {
   "cell_type": "code",
   "execution_count": null,
   "metadata": {},
   "outputs": [],
   "source": [
    "ff = np.logspace(1, 3.5, 200)  # frequency vector [Hz]\n",
    "\n",
    "DARM = {'EX': 1, 'EY': -1}"
   ]
  },
  {
   "cell_type": "code",
   "execution_count": null,
   "metadata": {},
   "outputs": [],
   "source": [
    "# Define parameters\n",
    "Larm = 40  # arm length [m]\n",
    "Pin = 10  # input power [W]\n",
    "Tsrm = 0.25  # SRM transmisivity\n",
    "phi = 0.2  # SRC detuning [deg]\n",
    "zeta = 88  # homodyne angle [deg]\n",
    "par = param40m.param40m(Larm=Larm, Tsrm=Tsrm)"
   ]
  },
  {
   "cell_type": "code",
   "execution_count": null,
   "metadata": {},
   "outputs": [],
   "source": [
    "# Define the model\n",
    "opt = opt40m.opt40m(eng, 'opt', par, phi, zeta, Pin)"
   ]
  },
  {
   "cell_type": "code",
   "execution_count": null,
   "metadata": {},
   "outputs": [],
   "source": [
    "# Compute the model\n",
    "opt.run(ff)"
   ]
  },
  {
   "cell_type": "markdown",
   "metadata": {},
   "source": [
    "## Make automatic plots"
   ]
  },
  {
   "cell_type": "code",
   "execution_count": null,
   "metadata": {},
   "outputs": [],
   "source": [
    "# Plot the DARM transfer function\n",
    "fig = opt.plotTF('AS_DIFF', DARM);\n",
    "fig.axes[0].set_ylabel('Magnitude [W/m]');\n",
    "fig.axes[0].set_title('DARM Response');\n",
    "fig.set_size_inches(10, 12);"
   ]
  },
  {
   "cell_type": "code",
   "execution_count": null,
   "metadata": {},
   "outputs": [],
   "source": [
    "# Plot the quantum noise\n",
    "fig = opt.plotQuantumASD('AS_DIFF', DARM);\n",
    "fig.gca().set_title('Quantum Noise');"
   ]
  },
  {
   "cell_type": "markdown",
   "metadata": {},
   "source": [
    "## Get data and make custom plots"
   ]
  },
  {
   "cell_type": "code",
   "execution_count": null,
   "metadata": {},
   "outputs": [],
   "source": [
    "tf = opt.getTF('AS_DIFF', DARM)  # DARM transfer function [W/m]\n",
    "qnoise = opt.getQuantumNoise('AS_DIFF')  # quantum noise [W/sqrtHz]\n",
    "Squant = qnoise / np.abs(tf)  # quantum noise [m/rtHz]\n",
    "Squant /= Larm"
   ]
  },
  {
   "cell_type": "code",
   "execution_count": null,
   "metadata": {},
   "outputs": [],
   "source": [
    "fig = plt.figure();\n",
    "ax = fig.gca();\n",
    "ax.loglog(ff, Squant);\n",
    "ax.set_xlim(ff[0], ff[-1]);\n",
    "ax.set_xlabel('Frequency [Hz]');\n",
    "ax.set_ylabel(r'Strain $[1/\\mathrm{Hz}^{1/2}]$');\n",
    "ax.set_title('Quantum Noise');\n",
    "ax.grid(True, which='both', alpha=0.5);\n",
    "ax.grid(which='minor', alpha=0.25);"
   ]
  },
  {
   "cell_type": "code",
   "execution_count": null,
   "metadata": {},
   "outputs": [],
   "source": []
  }
 ],
 "metadata": {
  "kernelspec": {
   "display_name": "sim",
   "language": "python",
   "name": "sim"
  },
  "language_info": {
   "codemirror_mode": {
    "name": "ipython",
    "version": 3
   },
   "file_extension": ".py",
   "mimetype": "text/x-python",
   "name": "python",
   "nbconvert_exporter": "python",
   "pygments_lexer": "ipython3",
   "version": "3.7.3"
  }
 },
 "nbformat": 4,
 "nbformat_minor": 1
}
