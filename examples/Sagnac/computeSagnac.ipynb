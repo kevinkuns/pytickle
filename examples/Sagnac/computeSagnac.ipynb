{
 "cells": [
  {
   "cell_type": "markdown",
   "metadata": {},
   "source": [
    "# Polarization Sagnac Example\n",
    "\n",
    "This notebook gives an example of a Sagnac with polarization and squeezing and is copied almost directly from the demoSagnac.m and demoPolSag.m examples from Optickle. The model is defined in optSagnac.py which is copied almost directly from optPolSag.m."
   ]
  },
  {
   "cell_type": "code",
   "execution_count": null,
   "metadata": {},
   "outputs": [],
   "source": [
    "# Import and initialize matlab engine.\n",
    "# This takes some time to initialize matlab, so only run it once at startup.\n",
    "import matlab.engine\n",
    "eng = matlab.engine.start_matlab()"
   ]
  },
  {
   "cell_type": "code",
   "execution_count": null,
   "metadata": {},
   "outputs": [],
   "source": [
    "from __future__ import division\n",
    "import numpy as np\n",
    "import matplotlib.pyplot as plt\n",
    "import matplotlib as mpl\n",
    "%matplotlib inline"
   ]
  },
  {
   "cell_type": "code",
   "execution_count": null,
   "metadata": {},
   "outputs": [],
   "source": [
    "mpl.rc('figure', figsize=(11, 8))\n",
    "mpl.rcParams.update({'lines.linewidth': 2, 'font.size': 14, 'axes.grid': True, 'axes.grid.which': 'both',\n",
    "                    'grid.alpha': 0.5})"
   ]
  },
  {
   "cell_type": "code",
   "execution_count": null,
   "metadata": {},
   "outputs": [],
   "source": [
    "import pytickle.optickle as pyt\n",
    "import optSagnac as optSagnac"
   ]
  },
  {
   "cell_type": "code",
   "execution_count": null,
   "metadata": {},
   "outputs": [],
   "source": [
    "pyt.addOpticklePath(eng)"
   ]
  },
  {
   "cell_type": "markdown",
   "metadata": {},
   "source": [
    "## Quantum Noise and DARM Response of a Polarization Sagnac\n",
    "\n",
    "This follows demoPolSag.m"
   ]
  },
  {
   "cell_type": "code",
   "execution_count": null,
   "metadata": {},
   "outputs": [],
   "source": [
    "opt = optSagnac.optSagnac(eng, 'opt')"
   ]
  },
  {
   "cell_type": "code",
   "execution_count": null,
   "metadata": {},
   "outputs": [],
   "source": [
    "ff = np.logspace(-1, 3, 200)"
   ]
  },
  {
   "cell_type": "code",
   "execution_count": null,
   "metadata": {},
   "outputs": [],
   "source": [
    "opt.run(ff)"
   ]
  },
  {
   "cell_type": "code",
   "execution_count": null,
   "metadata": {},
   "outputs": [],
   "source": [
    "opt.showfDC()"
   ]
  },
  {
   "cell_type": "code",
   "execution_count": null,
   "metadata": {},
   "outputs": [],
   "source": [
    "opt.showsigDC()"
   ]
  },
  {
   "cell_type": "code",
   "execution_count": null,
   "metadata": {},
   "outputs": [],
   "source": [
    "CARM = {'EX': 1, 'EY': 1}\n",
    "DARM = {'EX': 1, 'EY': -1}"
   ]
  },
  {
   "cell_type": "code",
   "execution_count": null,
   "metadata": {},
   "outputs": [],
   "source": [
    "fig = opt.plotTF('REFL_I', CARM, label='CARM REFL');\n",
    "opt.plotTF('AS_DIFF', DARM, mag_ax=fig.axes[0], phase_ax=fig.axes[1], label='DARM AS');\n",
    "fig.axes[0].set_ylabel('magnitude [W/m]');\n",
    "fig.axes[0].set_title('Response to CARM and DARM');\n",
    "fig.axes[0].legend();\n",
    "fig.set_size_inches((10, 12));"
   ]
  },
  {
   "cell_type": "code",
   "execution_count": null,
   "metadata": {},
   "outputs": [],
   "source": [
    "fig = opt.plotQuantumASD('AS_DIFF', DARM);\n",
    "fig.gca().set_title('Quantum Noise for Polarization Sagnac');"
   ]
  },
  {
   "cell_type": "markdown",
   "metadata": {
    "collapsed": true
   },
   "source": [
    "## Quantum Noise with a Squeezer\n",
    "\n",
    "Models with squeezers take a little longer to run. This follows demoSagnac.m"
   ]
  },
  {
   "cell_type": "code",
   "execution_count": null,
   "metadata": {},
   "outputs": [],
   "source": [
    "opt00 = optSagnac.optSagnac(eng, 'opt00', 0, 6, 10)\n",
    "opt00.run(ff)"
   ]
  },
  {
   "cell_type": "code",
   "execution_count": null,
   "metadata": {},
   "outputs": [],
   "source": [
    "opt45 = optSagnac.optSagnac(eng, 'opt45', 45, 6, 10)\n",
    "opt45.run(ff)"
   ]
  },
  {
   "cell_type": "code",
   "execution_count": null,
   "metadata": {},
   "outputs": [],
   "source": [
    "opt90 = optSagnac.optSagnac(eng, 'opt90', 90, 6, 10)\n",
    "opt90.run(ff)"
   ]
  },
  {
   "cell_type": "code",
   "execution_count": null,
   "metadata": {},
   "outputs": [],
   "source": [
    "opt135 = optSagnac.optSagnac(eng, 'opt135', 135, 6, 10)\n",
    "opt135.run(ff)"
   ]
  },
  {
   "cell_type": "code",
   "execution_count": null,
   "metadata": {},
   "outputs": [],
   "source": [
    "tfDARM = np.abs(opt.getTF('AS_DIFF', DARM))"
   ]
  },
  {
   "cell_type": "code",
   "execution_count": null,
   "metadata": {},
   "outputs": [],
   "source": [
    "fig = plt.figure()\n",
    "ax = fig.gca()\n",
    "ax.loglog(ff, opt.getQuantumNoise('AS_DIFF')/tfDARM, label='No squeezing');\n",
    "ax.loglog(ff, opt00.getQuantumNoise('AS_DIFF')/tfDARM, label='6 dB, 0 deg');\n",
    "ax.loglog(ff, opt45.getQuantumNoise('AS_DIFF')/tfDARM, label='6 dB, 45 deg');\n",
    "ax.loglog(ff, opt90.getQuantumNoise('AS_DIFF')/tfDARM, label='6 dB, 90 deg');\n",
    "ax.loglog(ff, opt135.getQuantumNoise('AS_DIFF')/tfDARM, label='6 dB, 135 deg');\n",
    "ax.legend();\n",
    "ax.set_xlabel('Frequency [Hz]');\n",
    "ax.set_ylabel(r'Displacement $[\\mathrm{m}/\\mathrm{Hz}^{1/2}]$');\n",
    "ax.set_title('Quantum Noise for Polarization Sagnac');\n",
    "ax.set_xlim(ff[0], ff[-1]);"
   ]
  },
  {
   "cell_type": "code",
   "execution_count": null,
   "metadata": {},
   "outputs": [],
   "source": []
  }
 ],
 "metadata": {
  "kernelspec": {
   "display_name": "sim",
   "language": "python",
   "name": "sim"
  },
  "language_info": {
   "codemirror_mode": {
    "name": "ipython",
    "version": 3
   },
   "file_extension": ".py",
   "mimetype": "text/x-python",
   "name": "python",
   "nbconvert_exporter": "python",
   "pygments_lexer": "ipython3",
   "version": "3.7.3"
  }
 },
 "nbformat": 4,
 "nbformat_minor": 1
}
